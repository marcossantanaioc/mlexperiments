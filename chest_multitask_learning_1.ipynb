{
 "cells": [
  {
   "cell_type": "markdown",
   "metadata": {},
   "source": [
    "# Dataset Descriptions\n",
    "\n",
    "##  Open-i\n",
    "\n",
    "* 7,470 chest x-rays with 3,955 radiology reports\n",
    "* [Website](https://openi.nlm.nih.gov/faq)\n",
    "* [Paper](https://lhncbc.nlm.nih.gov/system/files/pub2012019.pdf), [Technical report](http://lhncbc.nlm.nih.gov/system/files/tr2010002.pdf)\n",
    "* Data: [PNG](https://openi.nlm.nih.gov/imgs/collections/NLMCXR_png.tgz), [DICOM](https://openi.nlm.nih.gov/imgs/collections/NLMCXR_dcm.tgz)\n",
    "* /media/disk6tb/datasets/medical/chest/openi\n",
    "\n",
    "## ChestXray-NIHCC\n",
    "\n",
    "* Eight common thoracic diseases, Atelectasis, Cardiomegaly, Effusion, Infiltration, Mass, Nodule, Pneumonia, Pneumothorax\n",
    "* [Website](https://nihcc.app.box.com/v/ChestXray-NIHCC)\n",
    "* [Paper](https://nihcc.app.box.com/v/ChestXray-NIHCC/file/256057377774)\n",
    "* [Download](https://nihcc.app.box.com/v/ChestXray-NIHCC)\n",
    "* /media/disk6tb/datasets/medical/chest/ChestXray-NIHCC\n",
    "\n",
    "## mendeley\n",
    "\n",
    "* Divided into 4 classes, macular degeneration, diabetic retinopathy, bacterial and viral pneumonia \n",
    "* [Website](https://data.mendeley.com/datasets/rscbjbr9sj/3)\n",
    "* [Paper](https://www.cell.com/cell/fulltext/S0092-8674(18)30154-5?_returnURL=https%3A%2F%2Flinkinghub.elsevier.com%2Fretrieve%2Fpii%2FS0092867418301545%3Fshowall%3Dtrue)\n",
    "* [Download](https://data.mendeley.com/datasets/rscbjbr9sj/3/files/810b2ce2-11c3-4424-996e-3bef36600907) \n",
    "* /media/disk6tb/datasets/medical/chest/mendeley\n",
    "\n",
    "\n",
    "## chexpert\n",
    "\n",
    "* Each report was labeled for the presence of 14 observations as positive, negative, or uncertain. \n",
    "* [Website](https://stanfordmlgroup.github.io/competitions/chexpert/)\n",
    "* [Paper](https://arxiv.org/abs/1901.07031)\n",
    "* [Dataset Small](http://download.cs.stanford.edu/deep/CheXpert-v1.0-small.zip), [Dataset Big](http://download.cs.stanford.edu/deep/CheXpert-v1.0.zip)\n",
    "* /media/disk4tb/datasets/medical/chest/chexpert\n",
    "\n",
    "\n",
    "## Padchest  \n",
    "\n",
    "* Total Images: 160k images and 67,000 patients\n",
    "* Data: Age, Sex, 174 differentradiographic findings, 19 differential diagnoses \n",
    "* [Website](http://bimcv.cipf.es/bimcv-projects/padchest/)\n",
    "* [Paper](https://arxiv.org/pdf/1901.07441.pdf)\n",
    "* [Dataset](http://bimcv.cipf.es/bimcv-projects/padchest/)\n",
    "* /media/disk4tb/datasets/medical/chest/PC\n"
   ]
  },
  {
   "cell_type": "code",
   "execution_count": 2,
   "metadata": {},
   "outputs": [],
   "source": [
    "import matplotlib.pyplot as plt\n",
    "import numpy as np\n",
    "import torch\n",
    "import torch.nn as nn"
   ]
  },
  {
   "cell_type": "code",
   "execution_count": null,
   "metadata": {},
   "outputs": [],
   "source": []
  }
 ],
 "metadata": {
  "kernelspec": {
   "display_name": "Python 3",
   "language": "python",
   "name": "python3"
  },
  "language_info": {
   "codemirror_mode": {
    "name": "ipython",
    "version": 3
   },
   "file_extension": ".py",
   "mimetype": "text/x-python",
   "name": "python",
   "nbconvert_exporter": "python",
   "pygments_lexer": "ipython3",
   "version": "3.6.6"
  }
 },
 "nbformat": 4,
 "nbformat_minor": 2
}
